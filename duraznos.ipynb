{
 "cells": [
  {
   "cell_type": "markdown",
   "metadata": {},
   "source": [
    "# Algoritmos para detectar anomalías en bases de datos\n",
    "Autor: NQuiros \n",
    "\n",
    "Reviso: NTripp\n",
    "\n",
    "Aprobado: RMarino\n",
    "\n",
    "Versión: 1\n",
    "\n",
    "***\n",
    "Modelos de librerías scikit-learn\n",
    "\n",
    "Datos de prueba: duraznos (curso de PyE)\n"
   ]
  },
  {
   "cell_type": "markdown",
   "metadata": {},
   "source": [
    "Librerías necesarias: \n",
    "- `pandas` manejo de datos\n",
    "- `numpy` soporte para arreglos multidimensionales y métodos numéricos\n",
    "- `matplotlib` y `seaborn` visualizar resultados\n",
    "- `sklearn` modelos de inteligencia artificial"
   ]
  },
  {
   "cell_type": "code",
   "execution_count": 1,
   "metadata": {
    "scrolled": true
   },
   "outputs": [],
   "source": [
    "import numpy as np\n",
    "import matplotlib.pyplot as plt\n",
    "import pandas as pd\n",
    "import seaborn as sns\n",
    "from sklearn.metrics import confusion_matrix\n",
    "#import scikitplot as skplt "
   ]
  },
  {
   "cell_type": "markdown",
   "metadata": {},
   "source": [
    "Inicializamos el generador de números pseudo-aleatorios con una semilla determinada para que el **trabajo sea reproducible**."
   ]
  },
  {
   "cell_type": "code",
   "execution_count": 2,
   "metadata": {},
   "outputs": [],
   "source": [
    "np.random.seed(123);"
   ]
  },
  {
   "cell_type": "markdown",
   "metadata": {},
   "source": [
    "## Carga de datos\n",
    "\n",
    "Importamos las observaciones desde un archivo en formato `csv` y presentamos los primeros registros del dataframe."
   ]
  },
  {
   "cell_type": "code",
   "execution_count": 19,
   "metadata": {},
   "outputs": [
    {
     "data": {
      "text/html": [
       "<div>\n",
       "<style scoped>\n",
       "    .dataframe tbody tr th:only-of-type {\n",
       "        vertical-align: middle;\n",
       "    }\n",
       "\n",
       "    .dataframe tbody tr th {\n",
       "        vertical-align: top;\n",
       "    }\n",
       "\n",
       "    .dataframe thead th {\n",
       "        text-align: right;\n",
       "    }\n",
       "</style>\n",
       "<table border=\"1\" class=\"dataframe\">\n",
       "  <thead>\n",
       "    <tr style=\"text-align: right;\">\n",
       "      <th></th>\n",
       "      <th>Zona</th>\n",
       "      <th>Finca</th>\n",
       "      <th>Peso</th>\n",
       "      <th>Diámetro Sutural</th>\n",
       "      <th>Diámetro Contrasutural</th>\n",
       "    </tr>\n",
       "  </thead>\n",
       "  <tbody>\n",
       "    <tr>\n",
       "      <th>0</th>\n",
       "      <td>1.0</td>\n",
       "      <td>301</td>\n",
       "      <td>147</td>\n",
       "      <td>64.0</td>\n",
       "      <td>67.0</td>\n",
       "    </tr>\n",
       "    <tr>\n",
       "      <th>1</th>\n",
       "      <td>1.0</td>\n",
       "      <td>1502</td>\n",
       "      <td>87</td>\n",
       "      <td>57.0</td>\n",
       "      <td>53.0</td>\n",
       "    </tr>\n",
       "    <tr>\n",
       "      <th>2</th>\n",
       "      <td>1.0</td>\n",
       "      <td>301</td>\n",
       "      <td>139</td>\n",
       "      <td>65.0</td>\n",
       "      <td>64.0</td>\n",
       "    </tr>\n",
       "    <tr>\n",
       "      <th>3</th>\n",
       "      <td>1.0</td>\n",
       "      <td>301</td>\n",
       "      <td>159</td>\n",
       "      <td>69.0</td>\n",
       "      <td>67.0</td>\n",
       "    </tr>\n",
       "    <tr>\n",
       "      <th>4</th>\n",
       "      <td>1.0</td>\n",
       "      <td>1502</td>\n",
       "      <td>128</td>\n",
       "      <td>64.0</td>\n",
       "      <td>62.0</td>\n",
       "    </tr>\n",
       "  </tbody>\n",
       "</table>\n",
       "</div>"
      ],
      "text/plain": [
       "   Zona  Finca  Peso  Diámetro Sutural  Diámetro Contrasutural\n",
       "0   1.0    301   147              64.0                    67.0\n",
       "1   1.0   1502    87              57.0                    53.0\n",
       "2   1.0    301   139              65.0                    64.0\n",
       "3   1.0    301   159              69.0                    67.0\n",
       "4   1.0   1502   128              64.0                    62.0"
      ]
     },
     "execution_count": 19,
     "metadata": {},
     "output_type": "execute_result"
    }
   ],
   "source": [
    "datosCrudos = pd.read_csv(\"duraznosfinal.csv\");\n",
    "#Eliminamos la primer columna que no nos aporta nada.\n",
    "datosCrudos.drop(datosCrudos.columns[0],axis = 1, inplace = True)\n",
    "datosCrudos.head()"
   ]
  },
  {
   "cell_type": "markdown",
   "metadata": {},
   "source": [
    "Revisamos los datos importados."
   ]
  },
  {
   "cell_type": "code",
   "execution_count": 20,
   "metadata": {},
   "outputs": [
    {
     "data": {
      "text/html": [
       "<div>\n",
       "<style scoped>\n",
       "    .dataframe tbody tr th:only-of-type {\n",
       "        vertical-align: middle;\n",
       "    }\n",
       "\n",
       "    .dataframe tbody tr th {\n",
       "        vertical-align: top;\n",
       "    }\n",
       "\n",
       "    .dataframe thead th {\n",
       "        text-align: right;\n",
       "    }\n",
       "</style>\n",
       "<table border=\"1\" class=\"dataframe\">\n",
       "  <thead>\n",
       "    <tr style=\"text-align: right;\">\n",
       "      <th></th>\n",
       "      <th>Zona</th>\n",
       "      <th>Finca</th>\n",
       "      <th>Peso</th>\n",
       "      <th>Diámetro Sutural</th>\n",
       "      <th>Diámetro Contrasutural</th>\n",
       "    </tr>\n",
       "  </thead>\n",
       "  <tbody>\n",
       "    <tr>\n",
       "      <th>count</th>\n",
       "      <td>1186.000000</td>\n",
       "      <td>1186.000000</td>\n",
       "      <td>1186.000000</td>\n",
       "      <td>1186.000000</td>\n",
       "      <td>1186.000000</td>\n",
       "    </tr>\n",
       "    <tr>\n",
       "      <th>mean</th>\n",
       "      <td>1.809444</td>\n",
       "      <td>7603.602024</td>\n",
       "      <td>129.191400</td>\n",
       "      <td>62.140556</td>\n",
       "      <td>62.598651</td>\n",
       "    </tr>\n",
       "    <tr>\n",
       "      <th>std</th>\n",
       "      <td>0.892034</td>\n",
       "      <td>14989.460142</td>\n",
       "      <td>43.354427</td>\n",
       "      <td>6.007568</td>\n",
       "      <td>6.981575</td>\n",
       "    </tr>\n",
       "    <tr>\n",
       "      <th>min</th>\n",
       "      <td>1.000000</td>\n",
       "      <td>101.000000</td>\n",
       "      <td>10.000000</td>\n",
       "      <td>37.000000</td>\n",
       "      <td>42.000000</td>\n",
       "    </tr>\n",
       "    <tr>\n",
       "      <th>25%</th>\n",
       "      <td>1.000000</td>\n",
       "      <td>301.000000</td>\n",
       "      <td>104.000000</td>\n",
       "      <td>58.000000</td>\n",
       "      <td>58.000000</td>\n",
       "    </tr>\n",
       "    <tr>\n",
       "      <th>50%</th>\n",
       "      <td>1.000000</td>\n",
       "      <td>1032.000000</td>\n",
       "      <td>130.000000</td>\n",
       "      <td>62.400000</td>\n",
       "      <td>63.000000</td>\n",
       "    </tr>\n",
       "    <tr>\n",
       "      <th>75%</th>\n",
       "      <td>3.000000</td>\n",
       "      <td>1502.000000</td>\n",
       "      <td>157.000000</td>\n",
       "      <td>66.250000</td>\n",
       "      <td>68.000000</td>\n",
       "    </tr>\n",
       "    <tr>\n",
       "      <th>max</th>\n",
       "      <td>3.000000</td>\n",
       "      <td>40901.000000</td>\n",
       "      <td>255.000000</td>\n",
       "      <td>79.600000</td>\n",
       "      <td>86.100000</td>\n",
       "    </tr>\n",
       "  </tbody>\n",
       "</table>\n",
       "</div>"
      ],
      "text/plain": [
       "              Zona         Finca         Peso  Diámetro Sutural  \\\n",
       "count  1186.000000   1186.000000  1186.000000       1186.000000   \n",
       "mean      1.809444   7603.602024   129.191400         62.140556   \n",
       "std       0.892034  14989.460142    43.354427          6.007568   \n",
       "min       1.000000    101.000000    10.000000         37.000000   \n",
       "25%       1.000000    301.000000   104.000000         58.000000   \n",
       "50%       1.000000   1032.000000   130.000000         62.400000   \n",
       "75%       3.000000   1502.000000   157.000000         66.250000   \n",
       "max       3.000000  40901.000000   255.000000         79.600000   \n",
       "\n",
       "       Diámetro Contrasutural  \n",
       "count             1186.000000  \n",
       "mean                62.598651  \n",
       "std                  6.981575  \n",
       "min                 42.000000  \n",
       "25%                 58.000000  \n",
       "50%                 63.000000  \n",
       "75%                 68.000000  \n",
       "max                 86.100000  "
      ]
     },
     "execution_count": 20,
     "metadata": {},
     "output_type": "execute_result"
    }
   ],
   "source": [
    "datosCrudos.describe()"
   ]
  },
  {
   "cell_type": "code",
   "execution_count": 21,
   "metadata": {},
   "outputs": [
    {
     "data": {
      "image/png": "[encoded data removed]",
      "text/plain": [
       "<Figure size 432x288 with 1 Axes>"
      ]
     },
     "metadata": {
      "needs_background": "light"
     },
     "output_type": "display_data"
    }
   ],
   "source": [
    "datosCrudos.loc[:,[\"Peso\",\"Diámetro Sutural\",\"Diámetro Contrasutural\"]].boxplot();"
   ]
  },
  {
   "cell_type": "code",
   "execution_count": 22,
   "metadata": {},
   "outputs": [
    {
     "data": {
      "text/plain": [
       "Zona                      1186\n",
       "Finca                     1186\n",
       "Peso                      1186\n",
       "Diámetro Sutural          1186\n",
       "Diámetro Contrasutural    1186\n",
       "dtype: int64"
      ]
     },
     "execution_count": 22,
     "metadata": {},
     "output_type": "execute_result"
    }
   ],
   "source": [
    "datosCrudos.count()"
   ]
  },
  {
   "cell_type": "markdown",
   "metadata": {},
   "source": [
    "Veamos cómo se relaciona el peso con la numeración de las fincas."
   ]
  },
  {
   "cell_type": "code",
   "execution_count": 23,
   "metadata": {
    "scrolled": true
   },
   "outputs": [
    {
     "data": {
      "image/png": "[encoded data removed]",
      "text/plain": [
       "<Figure size 432x288 with 1 Axes>"
      ]
     },
     "metadata": {
      "needs_background": "light"
     },
     "output_type": "display_data"
    }
   ],
   "source": [
    "datosCrudos.plot.scatter(x=\"Finca\",y=\"Peso\");"
   ]
  },
  {
   "cell_type": "markdown",
   "metadata": {},
   "source": [
    "Hay un grupo de fincas con numeración bastante alejada del resto. Además, en las fincas con numeración más alta hay pesos registrados bastante por debajo del resto (esquina inferior derecha del gráfico)."
   ]
  },
  {
   "cell_type": "markdown",
   "metadata": {},
   "source": [
    "## Etiquetado de valores atípicos verdaderos\n",
    "\n",
    "En estos datos de prueba sabemos que los duraznos con pesos inferiores a 40 gramos tuvieron un problema y se registraron con un error. Vamos a etiquetarlos para probar los algoritmos de detección."
   ]
  },
  {
   "cell_type": "code",
   "execution_count": 24,
   "metadata": {},
   "outputs": [
    {
     "data": {
      "text/html": [
       "<div>\n",
       "<style scoped>\n",
       "    .dataframe tbody tr th:only-of-type {\n",
       "        vertical-align: middle;\n",
       "    }\n",
       "\n",
       "    .dataframe tbody tr th {\n",
       "        vertical-align: top;\n",
       "    }\n",
       "\n",
       "    .dataframe thead th {\n",
       "        text-align: right;\n",
       "    }\n",
       "</style>\n",
       "<table border=\"1\" class=\"dataframe\">\n",
       "  <thead>\n",
       "    <tr style=\"text-align: right;\">\n",
       "      <th></th>\n",
       "      <th>Zona</th>\n",
       "      <th>Finca</th>\n",
       "      <th>Peso</th>\n",
       "      <th>Diámetro Sutural</th>\n",
       "      <th>Diámetro Contrasutural</th>\n",
       "    </tr>\n",
       "  </thead>\n",
       "  <tbody>\n",
       "    <tr>\n",
       "      <th>607</th>\n",
       "      <td>2.0</td>\n",
       "      <td>40801</td>\n",
       "      <td>20</td>\n",
       "      <td>54.0</td>\n",
       "      <td>54.0</td>\n",
       "    </tr>\n",
       "    <tr>\n",
       "      <th>618</th>\n",
       "      <td>2.0</td>\n",
       "      <td>40801</td>\n",
       "      <td>20</td>\n",
       "      <td>49.0</td>\n",
       "      <td>45.0</td>\n",
       "    </tr>\n",
       "    <tr>\n",
       "      <th>624</th>\n",
       "      <td>2.0</td>\n",
       "      <td>40801</td>\n",
       "      <td>30</td>\n",
       "      <td>49.0</td>\n",
       "      <td>49.0</td>\n",
       "    </tr>\n",
       "    <tr>\n",
       "      <th>626</th>\n",
       "      <td>2.0</td>\n",
       "      <td>40801</td>\n",
       "      <td>30</td>\n",
       "      <td>54.0</td>\n",
       "      <td>54.0</td>\n",
       "    </tr>\n",
       "    <tr>\n",
       "      <th>639</th>\n",
       "      <td>2.0</td>\n",
       "      <td>40801</td>\n",
       "      <td>30</td>\n",
       "      <td>51.0</td>\n",
       "      <td>49.0</td>\n",
       "    </tr>\n",
       "    <tr>\n",
       "      <th>...</th>\n",
       "      <td>...</td>\n",
       "      <td>...</td>\n",
       "      <td>...</td>\n",
       "      <td>...</td>\n",
       "      <td>...</td>\n",
       "    </tr>\n",
       "    <tr>\n",
       "      <th>1141</th>\n",
       "      <td>2.0</td>\n",
       "      <td>40801</td>\n",
       "      <td>30</td>\n",
       "      <td>50.0</td>\n",
       "      <td>51.0</td>\n",
       "    </tr>\n",
       "    <tr>\n",
       "      <th>1149</th>\n",
       "      <td>2.0</td>\n",
       "      <td>40801</td>\n",
       "      <td>30</td>\n",
       "      <td>49.0</td>\n",
       "      <td>49.0</td>\n",
       "    </tr>\n",
       "    <tr>\n",
       "      <th>1158</th>\n",
       "      <td>2.0</td>\n",
       "      <td>40801</td>\n",
       "      <td>20</td>\n",
       "      <td>50.0</td>\n",
       "      <td>48.0</td>\n",
       "    </tr>\n",
       "    <tr>\n",
       "      <th>1165</th>\n",
       "      <td>2.0</td>\n",
       "      <td>40801</td>\n",
       "      <td>30</td>\n",
       "      <td>52.0</td>\n",
       "      <td>52.0</td>\n",
       "    </tr>\n",
       "    <tr>\n",
       "      <th>1168</th>\n",
       "      <td>2.0</td>\n",
       "      <td>40801</td>\n",
       "      <td>30</td>\n",
       "      <td>53.0</td>\n",
       "      <td>55.0</td>\n",
       "    </tr>\n",
       "  </tbody>\n",
       "</table>\n",
       "<p>71 rows × 5 columns</p>\n",
       "</div>"
      ],
      "text/plain": [
       "      Zona  Finca  Peso  Diámetro Sutural  Diámetro Contrasutural\n",
       "607    2.0  40801    20              54.0                    54.0\n",
       "618    2.0  40801    20              49.0                    45.0\n",
       "624    2.0  40801    30              49.0                    49.0\n",
       "626    2.0  40801    30              54.0                    54.0\n",
       "639    2.0  40801    30              51.0                    49.0\n",
       "...    ...    ...   ...               ...                     ...\n",
       "1141   2.0  40801    30              50.0                    51.0\n",
       "1149   2.0  40801    30              49.0                    49.0\n",
       "1158   2.0  40801    20              50.0                    48.0\n",
       "1165   2.0  40801    30              52.0                    52.0\n",
       "1168   2.0  40801    30              53.0                    55.0\n",
       "\n",
       "[71 rows x 5 columns]"
      ]
     },
     "execution_count": 24,
     "metadata": {},
     "output_type": "execute_result"
    }
   ],
   "source": [
    "#Aplicamos un \"filtro booleano\" a todo el dataframe bajo la condición de que el peso es menor a 40 gramos.\n",
    "atipicos=datosCrudos[\"Peso\"]<40;\n",
    "datosCrudos[atipicos]"
   ]
  },
  {
   "cell_type": "code",
   "execution_count": 25,
   "metadata": {},
   "outputs": [],
   "source": [
    "atipicos=atipicos.rename(\"Atípicos\")"
   ]
  },
  {
   "cell_type": "markdown",
   "metadata": {},
   "source": [
    "Vemos que los pesos etiquetados corresponden a la finca 40801."
   ]
  },
  {
   "cell_type": "code",
   "execution_count": 26,
   "metadata": {},
   "outputs": [
    {
     "data": {
      "text/html": [
       "<div>\n",
       "<style scoped>\n",
       "    .dataframe tbody tr th:only-of-type {\n",
       "        vertical-align: middle;\n",
       "    }\n",
       "\n",
       "    .dataframe tbody tr th {\n",
       "        vertical-align: top;\n",
       "    }\n",
       "\n",
       "    .dataframe thead th {\n",
       "        text-align: right;\n",
       "    }\n",
       "</style>\n",
       "<table border=\"1\" class=\"dataframe\">\n",
       "  <thead>\n",
       "    <tr style=\"text-align: right;\">\n",
       "      <th></th>\n",
       "      <th>Zona</th>\n",
       "      <th>Finca</th>\n",
       "      <th>Peso</th>\n",
       "      <th>Diámetro Sutural</th>\n",
       "      <th>Diámetro Contrasutural</th>\n",
       "      <th>Atípicos</th>\n",
       "    </tr>\n",
       "  </thead>\n",
       "  <tbody>\n",
       "    <tr>\n",
       "      <th>0</th>\n",
       "      <td>1.0</td>\n",
       "      <td>301</td>\n",
       "      <td>147</td>\n",
       "      <td>64.0</td>\n",
       "      <td>67.0</td>\n",
       "      <td>False</td>\n",
       "    </tr>\n",
       "    <tr>\n",
       "      <th>1</th>\n",
       "      <td>1.0</td>\n",
       "      <td>1502</td>\n",
       "      <td>87</td>\n",
       "      <td>57.0</td>\n",
       "      <td>53.0</td>\n",
       "      <td>False</td>\n",
       "    </tr>\n",
       "    <tr>\n",
       "      <th>2</th>\n",
       "      <td>1.0</td>\n",
       "      <td>301</td>\n",
       "      <td>139</td>\n",
       "      <td>65.0</td>\n",
       "      <td>64.0</td>\n",
       "      <td>False</td>\n",
       "    </tr>\n",
       "    <tr>\n",
       "      <th>3</th>\n",
       "      <td>1.0</td>\n",
       "      <td>301</td>\n",
       "      <td>159</td>\n",
       "      <td>69.0</td>\n",
       "      <td>67.0</td>\n",
       "      <td>False</td>\n",
       "    </tr>\n",
       "    <tr>\n",
       "      <th>4</th>\n",
       "      <td>1.0</td>\n",
       "      <td>1502</td>\n",
       "      <td>128</td>\n",
       "      <td>64.0</td>\n",
       "      <td>62.0</td>\n",
       "      <td>False</td>\n",
       "    </tr>\n",
       "  </tbody>\n",
       "</table>\n",
       "</div>"
      ],
      "text/plain": [
       "   Zona  Finca  Peso  Diámetro Sutural  Diámetro Contrasutural  Atípicos\n",
       "0   1.0    301   147              64.0                    67.0     False\n",
       "1   1.0   1502    87              57.0                    53.0     False\n",
       "2   1.0    301   139              65.0                    64.0     False\n",
       "3   1.0    301   159              69.0                    67.0     False\n",
       "4   1.0   1502   128              64.0                    62.0     False"
      ]
     },
     "execution_count": 26,
     "metadata": {},
     "output_type": "execute_result"
    }
   ],
   "source": [
    "#concatenamos como columnas\n",
    "datosTrabajo=pd.concat([datosCrudos,atipicos], axis=1, join=\"outer\")\n",
    "datosTrabajo.head()"
   ]
  },
  {
   "cell_type": "code",
   "execution_count": 27,
   "metadata": {},
   "outputs": [
    {
     "data": {
      "image/png": "[encoded data removed]",
      "text/plain": [
       "<Figure size 432x288 with 1 Axes>"
      ]
     },
     "metadata": {
      "needs_background": "light"
     },
     "output_type": "display_data"
    }
   ],
   "source": [
    "datosTrabajo.boxplot(\"Peso\",by=\"Atípicos\");"
   ]
  },
  {
   "cell_type": "markdown",
   "metadata": {},
   "source": [
    "## Prueba de los modelos"
   ]
  },
  {
   "cell_type": "markdown",
   "metadata": {},
   "source": [
    "Ahora que tenemos los datos limpios podemos empezar a utilizar modelos. Y comparar su desempeño.\n",
    "\n",
    "Vamos a utilizar las variables \"Peso\", \"Diámetro Sutural\" y \"Diámetro Contrasutural\" para estudiar los conglomerados. \n",
    "\n",
    "Vamos a verificar las predicciones con la variable \"Atípicos\".\n",
    "\n",
    "Probamos primero con *KNN* una forma de aprendizaje no supervisado."
   ]
  },
  {
   "cell_type": "code",
   "execution_count": 28,
   "metadata": {},
   "outputs": [
    {
     "ename": "ModuleNotFoundError",
     "evalue": "No module named 'pyod'",
     "output_type": "error",
     "traceback": [
      "\u001b[1;31m---------------------------------------------------------------------------\u001b[0m",
      "\u001b[1;31mModuleNotFoundError\u001b[0m                       Traceback (most recent call last)",
      "\u001b[1;32m<ipython-input-28-a7c84ce607c8>\u001b[0m in \u001b[0;36m<module>\u001b[1;34m\u001b[0m\n\u001b[0;32m      1\u001b[0m \u001b[1;31m#Librerias para KNN.\u001b[0m\u001b[1;33m\u001b[0m\u001b[1;33m\u001b[0m\u001b[1;33m\u001b[0m\u001b[0m\n\u001b[1;32m----> 2\u001b[1;33m \u001b[1;32mfrom\u001b[0m \u001b[0mpyod\u001b[0m\u001b[1;33m.\u001b[0m\u001b[0mmodels\u001b[0m\u001b[1;33m.\u001b[0m\u001b[0mknn\u001b[0m \u001b[1;32mimport\u001b[0m \u001b[0mKNN\u001b[0m\u001b[1;33m\u001b[0m\u001b[1;33m\u001b[0m\u001b[0m\n\u001b[0m\u001b[0;32m      3\u001b[0m \u001b[1;32mfrom\u001b[0m \u001b[0msklearn\u001b[0m\u001b[1;33m.\u001b[0m\u001b[0mmodel_selection\u001b[0m \u001b[1;32mimport\u001b[0m \u001b[0mtrain_test_split\u001b[0m\u001b[1;33m\u001b[0m\u001b[1;33m\u001b[0m\u001b[0m\n\u001b[0;32m      4\u001b[0m \u001b[1;32mfrom\u001b[0m \u001b[0mpyod\u001b[0m\u001b[1;33m.\u001b[0m\u001b[0mutils\u001b[0m\u001b[1;33m.\u001b[0m\u001b[0mdata\u001b[0m \u001b[1;32mimport\u001b[0m \u001b[0mevaluate_print\u001b[0m\u001b[1;33m\u001b[0m\u001b[1;33m\u001b[0m\u001b[0m\n",
      "\u001b[1;31mModuleNotFoundError\u001b[0m: No module named 'pyod'"
     ]
    }
   ],
   "source": [
    "#Librerias para KNN.\n",
    "from pyod.models.knn import KNN \n",
    "from sklearn.model_selection import train_test_split \n",
    "from pyod.utils.data import evaluate_print"
   ]
  },
  {
   "cell_type": "code",
   "execution_count": null,
   "metadata": {},
   "outputs": [],
   "source": [
    "# Elegimos las variables\n",
    "x = datosTrabajo.drop(['Zona','Finca','Clasificacion'], axis=1) \n",
    "y = datosTrabajo[\"Atípicos\"]\n",
    "\n",
    "# show the shape of x and y  \n",
    "# print(\"x shape: {}\".format(x.shape)) \n",
    "# print(\"y shape: {}\".format(y.shape))"
   ]
  },
  {
   "cell_type": "code",
   "execution_count": null,
   "metadata": {},
   "outputs": [],
   "source": [
    "#Vamos a analizar el peso y cuales son outliers\n",
    "#Mantenemos la notacion de x como input e y como output.\n",
    "x_train, x_test, y_train, y_test = train_test_split(x,y,test_size = 0.2, stratify = y, random_state = 42)\n",
    "\n",
    "print(f\"x_train : {x_train.size},\\n x_test: {len(x_test)},\\n y_train: {len(y_train)},\\n y_test :{len(y_test)}\")"
   ]
  },
  {
   "cell_type": "code",
   "execution_count": null,
   "metadata": {},
   "outputs": [],
   "source": [
    "clf_knn = KNN(contamination= 0.172,n_neighbors = 5,n_jobs=-1)\n",
    "#Entrenamos el modelo con datos de entrenamiento\n",
    "clf_knn.fit(x_train)\n"
   ]
  },
  {
   "cell_type": "code",
   "execution_count": null,
   "metadata": {},
   "outputs": [],
   "source": [
    "#Esto nos devuelve las etiquetas del entrenamiento de los datos\n",
    "y_train_pred = clf_knn.labels_\n",
    "#Obtenemos su puntaje\n",
    "y_train_scores = clf_knn.decision_scores_\n",
    "print(f\"y_train : {y_train.size}, y_train_scores:{y_train_scores.size}\")"
   ]
  },
  {
   "cell_type": "code",
   "execution_count": null,
   "metadata": {},
   "outputs": [],
   "source": [
    "# Evaluate on the training data \n",
    "evaluate_print('KNN', y_train, y_train_scores)"
   ]
  },
  {
   "cell_type": "code",
   "execution_count": null,
   "metadata": {},
   "outputs": [],
   "source": [
    "# plot the comfusion matrix  in the train set \n",
    "\n",
    "skplt.metrics.plot_confusion_matrix(y_train,y_train_pred, \n",
    "                                    normalize=False,\n",
    "                                    title=\"Consfusion Matrix on Train Set\")\n",
    "plt.show()"
   ]
  },
  {
   "cell_type": "code",
   "execution_count": null,
   "metadata": {},
   "outputs": [],
   "source": [
    "y_test_scores = clf_knn.decision_function(x_test)  # outlier scores\n",
    "# Evaluate on the training data\n",
    "evaluate_print('KNN', y_test,y_test_scores)"
   ]
  },
  {
   "cell_type": "code",
   "execution_count": null,
   "metadata": {},
   "outputs": [],
   "source": [
    "# plot the comfusion matrix  in the test set\n",
    "y_preds = clf_knn.predict(x_test)\n",
    "\n",
    "skplt.metrics.plot_confusion_matrix(y_test,y_preds, normalize=False,\n",
    "                                    title=\"Consfusion Matrix on Test Set\")\n",
    "plt.show()"
   ]
  },
  {
   "cell_type": "markdown",
   "metadata": {},
   "source": [
    "Como podemos observar el KNN ROC en ambos casos es bastante pobre. Mis dos teorias son:\n",
    "\n",
    "    1.Los datos son muy pocos para un correcto entrenamiento de la IA\n",
    "    2.Puede que el clasificador este funcionando mal, osea que los datos esten mal clasificados antes del entrenamiento. Entonces por eso sea malo el entrenamiento.\n",
    "\n"
   ]
  }
 ],
 "metadata": {
  "interpreter": {
   "hash": "916dbcbb3f70747c44a77c7bcd40155683ae19c65e1c03b4aa3499c5328201f1"
  },
  "kernelspec": {
   "display_name": "Python 3",
   "language": "python",
   "name": "python3"
  },
  "language_info": {
   "codemirror_mode": {
    "name": "ipython",
    "version": 3
   },
   "file_extension": ".py",
   "mimetype": "text/x-python",
   "name": "python",
   "nbconvert_exporter": "python",
   "pygments_lexer": "ipython3",
   "version": "3.8.0"
  }
 },
 "nbformat": 4,
 "nbformat_minor": 2
}
