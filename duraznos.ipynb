{
 "cells": [
  {
   "cell_type": "markdown",
   "metadata": {},
   "source": [
    "Voy a tratar de aplicar la deteccion de outliers por lejania o distancia a los datos de este set sobre duraznos."
   ]
  },
  {
   "cell_type": "markdown",
   "metadata": {},
   "source": [
    "*Librerias*"
   ]
  },
  {
   "cell_type": "code",
   "execution_count": 3,
   "metadata": {},
   "outputs": [],
   "source": [
    "import pandas as pd\n",
    "import numpy as np\n",
    "import seaborn as sns\n",
    "import matplotlib.pyplot as plt\n",
    "from sklearn.metrics import confusion_matrix\n",
    "import scikitplot as skplt \n",
    "np.random.seed(123)"
   ]
  },
  {
   "cell_type": "markdown",
   "metadata": {},
   "source": [
    "**Ahora leemos el csv, luego de haber corrido el from_exceltoCsv.py**"
   ]
  },
  {
   "cell_type": "code",
   "execution_count": 4,
   "metadata": {},
   "outputs": [
    {
     "data": {
      "text/plain": [
       "(1186, 5)"
      ]
     },
     "execution_count": 4,
     "metadata": {},
     "output_type": "execute_result"
    }
   ],
   "source": [
    "datos = pd.read_csv(\"duraznosfinal.csv\")\n",
    "#Eliminamos la primer columna que no nos aporta nada.\n",
    "datos.drop(datos.columns[0],axis = 1, inplace = True)\n",
    "datos.shape"
   ]
  },
  {
   "cell_type": "markdown",
   "metadata": {},
   "source": [
    "**Tratamiento de NaN**"
   ]
  },
  {
   "cell_type": "code",
   "execution_count": 5,
   "metadata": {},
   "outputs": [
    {
     "data": {
      "text/plain": [
       "Zona                      0\n",
       "Finca                     0\n",
       "Peso                      0\n",
       "Diámetro Sutural          0\n",
       "Diámetro Contrasutural    0\n",
       "dtype: int64"
      ]
     },
     "execution_count": 5,
     "metadata": {},
     "output_type": "execute_result"
    }
   ],
   "source": [
    "#reemplazamos los NA de finca con la moda de esa columna.\n",
    "def reemplazarNAxModa(datos,columna):\n",
    "    #Calculamos la moda\n",
    "      moda = datos[columna].mode()\n",
    "    #Rellenamos los Na con la moda.\n",
    "      datos[columna] = datos[columna].fillna(moda)\n",
    "      return datos\n",
    "datos.isnull().sum()\n"
   ]
  },
  {
   "cell_type": "code",
   "execution_count": 6,
   "metadata": {},
   "outputs": [
    {
     "name": "stderr",
     "output_type": "stream",
     "text": [
      "/tmp/ipykernel_5092/4179042019.py:11: SettingWithCopyWarning: \n",
      "A value is trying to be set on a copy of a slice from a DataFrame\n",
      "\n",
      "See the caveats in the documentation: https://pandas.pydata.org/pandas-docs/stable/user_guide/indexing.html#returning-a-view-versus-a-copy\n",
      "  datosmod[\"Clasificacion\"][i] = 0\n",
      "/tmp/ipykernel_5092/4179042019.py:9: SettingWithCopyWarning: \n",
      "A value is trying to be set on a copy of a slice from a DataFrame\n",
      "\n",
      "See the caveats in the documentation: https://pandas.pydata.org/pandas-docs/stable/user_guide/indexing.html#returning-a-view-versus-a-copy\n",
      "  datosmod[\"Clasificacion\"][i] = 1\n"
     ]
    },
    {
     "data": {
      "text/html": [
       "<div>\n",
       "<style scoped>\n",
       "    .dataframe tbody tr th:only-of-type {\n",
       "        vertical-align: middle;\n",
       "    }\n",
       "\n",
       "    .dataframe tbody tr th {\n",
       "        vertical-align: top;\n",
       "    }\n",
       "\n",
       "    .dataframe thead th {\n",
       "        text-align: right;\n",
       "    }\n",
       "</style>\n",
       "<table border=\"1\" class=\"dataframe\">\n",
       "  <thead>\n",
       "    <tr style=\"text-align: right;\">\n",
       "      <th></th>\n",
       "      <th>Zona</th>\n",
       "      <th>Finca</th>\n",
       "      <th>Peso</th>\n",
       "      <th>Diámetro Sutural</th>\n",
       "      <th>Diámetro Contrasutural</th>\n",
       "      <th>Clasificacion</th>\n",
       "    </tr>\n",
       "  </thead>\n",
       "  <tbody>\n",
       "    <tr>\n",
       "      <th>0</th>\n",
       "      <td>1.0</td>\n",
       "      <td>301</td>\n",
       "      <td>147</td>\n",
       "      <td>64.0</td>\n",
       "      <td>67.0</td>\n",
       "      <td>0.0</td>\n",
       "    </tr>\n",
       "    <tr>\n",
       "      <th>1</th>\n",
       "      <td>1.0</td>\n",
       "      <td>1502</td>\n",
       "      <td>87</td>\n",
       "      <td>57.0</td>\n",
       "      <td>53.0</td>\n",
       "      <td>0.0</td>\n",
       "    </tr>\n",
       "    <tr>\n",
       "      <th>2</th>\n",
       "      <td>1.0</td>\n",
       "      <td>301</td>\n",
       "      <td>139</td>\n",
       "      <td>65.0</td>\n",
       "      <td>64.0</td>\n",
       "      <td>0.0</td>\n",
       "    </tr>\n",
       "    <tr>\n",
       "      <th>3</th>\n",
       "      <td>1.0</td>\n",
       "      <td>301</td>\n",
       "      <td>159</td>\n",
       "      <td>69.0</td>\n",
       "      <td>67.0</td>\n",
       "      <td>0.0</td>\n",
       "    </tr>\n",
       "    <tr>\n",
       "      <th>4</th>\n",
       "      <td>1.0</td>\n",
       "      <td>1502</td>\n",
       "      <td>128</td>\n",
       "      <td>64.0</td>\n",
       "      <td>62.0</td>\n",
       "      <td>0.0</td>\n",
       "    </tr>\n",
       "  </tbody>\n",
       "</table>\n",
       "</div>"
      ],
      "text/plain": [
       "   Zona  Finca  Peso  Diámetro Sutural  Diámetro Contrasutural  Clasificacion\n",
       "0   1.0    301   147              64.0                    67.0            0.0\n",
       "1   1.0   1502    87              57.0                    53.0            0.0\n",
       "2   1.0    301   139              65.0                    64.0            0.0\n",
       "3   1.0    301   159              69.0                    67.0            0.0\n",
       "4   1.0   1502   128              64.0                    62.0            0.0"
      ]
     },
     "execution_count": 6,
     "metadata": {},
     "output_type": "execute_result"
    }
   ],
   "source": [
    "def ClasificarOutliers(df,columna):\n",
    "    #Creamos una serie vacia y la unimos al dataframe.\n",
    "    clasif = pd.Series(dtype=\"int64\")\n",
    "    datosmod = pd.concat([df,clasif],axis=1)\n",
    "    #Cambiar el nombre de la nueva columna\n",
    "    datosmod.columns = [*datosmod.columns[:-1], 'Clasificacion']\n",
    "    for i in range(len(datosmod[columna])):\n",
    "        if(datosmod[columna][i] == 30 or datosmod[columna][i] == 20 or datosmod[columna][i] == 35 ): #Los outliers de este data set.\n",
    "            datosmod[\"Clasificacion\"][i] = 1\n",
    "        else: #Sino son estos 3, entonces son 0\n",
    "            datosmod[\"Clasificacion\"][i] = 0\n",
    "    return datosmod\n",
    "datos_clasif = ClasificarOutliers(datos,\"Peso\") #Datos clasif = Datos ya clasificados como outliers\n",
    "datos_clasif.head()"
   ]
  },
  {
   "cell_type": "markdown",
   "metadata": {},
   "source": [
    "**Algunos graficos para orientarnos en los valores atipicos.**\n"
   ]
  },
  {
   "cell_type": "code",
   "execution_count": 7,
   "metadata": {},
   "outputs": [
    {
     "data": {
      "text/plain": [
       "<AxesSubplot:xlabel='Zona', ylabel='Peso'>"
      ]
     },
     "execution_count": 7,
     "metadata": {},
     "output_type": "execute_result"
    },
    {
     "data": {
      "image/png": "[encoded data removed]",
      "text/plain": [
       "<Figure size 432x288 with 1 Axes>"
      ]
     },
     "metadata": {},
     "output_type": "display_data"
    }
   ],
   "source": [
    "sns.set_style(\"whitegrid\")\n",
    "flierprops = dict(marker='o', markerfacecolor='red', markersize=5,  markeredgecolor='None')\n",
    "sns.boxplot(data= datos_clasif,y = \"Peso\",x=\"Zona\",flierprops = flierprops)"
   ]
  },
  {
   "cell_type": "markdown",
   "metadata": {},
   "source": [
    "*Ahora que tenemos los datos limpios podemos empezar a utilizar modelos. Y comparar su perfomance.*\n",
    "Probamos primero con KNN una forma de aprendizaje supervisado. Este tiene como ventaja ser muy sencillo de entender y aplicar. Tiene como desventaja su lentitud y que solamente encuentra anomalias globales y no locales. La eleccion de K es muy importante para un correcto funcionamiento del algoritmo, pero se trata de una variable que depende enteramente de cada set de datos."
   ]
  },
  {
   "cell_type": "code",
   "execution_count": 8,
   "metadata": {},
   "outputs": [],
   "source": [
    "#Arrancariamos con KNN.\n",
    "from pyod.models.knn import KNN \n",
    "from sklearn.model_selection import train_test_split \n",
    "from pyod.utils.data import evaluate_print"
   ]
  },
  {
   "cell_type": "code",
   "execution_count": 9,
   "metadata": {},
   "outputs": [
    {
     "name": "stdout",
     "output_type": "stream",
     "text": [
      "x shape: (1186, 3)\n",
      "y shape: (1186,)\n"
     ]
    }
   ],
   "source": [
    "# split into independent variables and target variable\n",
    "x = datos_clasif.drop(['Zona','Finca','Clasificacion'], axis=1) \n",
    "y = datos_clasif['Clasificacion']  \n",
    "# show the shape of x and y  \n",
    "print(\"x shape: {}\".format(x.shape)) \n",
    "print(\"y shape: {}\".format(y.shape))"
   ]
  },
  {
   "cell_type": "code",
   "execution_count": 10,
   "metadata": {},
   "outputs": [
    {
     "name": "stdout",
     "output_type": "stream",
     "text": [
      "x_train : 2844,\n",
      " x_test: 238,\n",
      " y_train: 948,\n",
      " y_test :238\n"
     ]
    }
   ],
   "source": [
    "#Vamos a analizar el peso y cuales son outliers\n",
    "#Mantenemos la notacion de x como input e y como output.\n",
    "x_train, x_test, y_train, y_test = train_test_split(x,y,test_size = 0.2, stratify = y, random_state = 42)\n",
    "\n",
    "print(f\"x_train : {x_train.size},\\n x_test: {len(x_test)},\\n y_train: {len(y_train)},\\n y_test :{len(y_test)}\")"
   ]
  },
  {
   "cell_type": "code",
   "execution_count": 11,
   "metadata": {},
   "outputs": [
    {
     "data": {
      "text/plain": [
       "KNN(algorithm='auto', contamination=0.172, leaf_size=30, method='largest',\n",
       "  metric='minkowski', metric_params=None, n_jobs=-1, n_neighbors=5, p=2,\n",
       "  radius=1.0)"
      ]
     },
     "execution_count": 11,
     "metadata": {},
     "output_type": "execute_result"
    }
   ],
   "source": [
    "clf_knn = KNN(contamination= 0.172,n_neighbors = 5,n_jobs=-1)\n",
    "#Entrenamos el modelo con datos de entrenamiento\n",
    "clf_knn.fit(x_train)\n"
   ]
  },
  {
   "cell_type": "code",
   "execution_count": 12,
   "metadata": {},
   "outputs": [
    {
     "name": "stdout",
     "output_type": "stream",
     "text": [
      "y_train : 948, y_train_scores:948\n"
     ]
    }
   ],
   "source": [
    "#Esto nos devuelve las etiquetas del entrenamiento de los datos\n",
    "y_train_pred = clf_knn.labels_\n",
    "#Obtenemos su puntaje\n",
    "y_train_scores = clf_knn.decision_scores_\n",
    "print(f\"y_train : {y_train.size}, y_train_scores:{y_train_scores.size}\")"
   ]
  },
  {
   "cell_type": "code",
   "execution_count": 13,
   "metadata": {},
   "outputs": [
    {
     "name": "stdout",
     "output_type": "stream",
     "text": [
      "KNN ROC:0.3293, precision @ rank n:0.0364\n"
     ]
    }
   ],
   "source": [
    "# Evaluate on the training data \n",
    "evaluate_print('KNN', y_train, y_train_scores)"
   ]
  },
  {
   "cell_type": "code",
   "execution_count": 15,
   "metadata": {},
   "outputs": [
    {
     "data": {
      "image/png": "[encoded data removed]",
      "text/plain": [
       "<Figure size 432x288 with 2 Axes>"
      ]
     },
     "metadata": {},
     "output_type": "display_data"
    }
   ],
   "source": [
    "# plot the comfusion matrix  in the train set \n",
    "\n",
    "skplt.metrics.plot_confusion_matrix(y_train,y_train_pred, \n",
    "                                    normalize=False,\n",
    "                                    title=\"Consfusion Matrix on Train Set\")\n",
    "plt.show()"
   ]
  },
  {
   "cell_type": "code",
   "execution_count": 16,
   "metadata": {},
   "outputs": [
    {
     "name": "stdout",
     "output_type": "stream",
     "text": [
      "KNN ROC:0.4088, precision @ rank n:0.0714\n"
     ]
    }
   ],
   "source": [
    "y_test_scores = clf_knn.decision_function(x_test)  # outlier scores\n",
    "# Evaluate on the training data\n",
    "evaluate_print('KNN', y_test,y_test_scores)"
   ]
  },
  {
   "cell_type": "code",
   "execution_count": 17,
   "metadata": {},
   "outputs": [
    {
     "data": {
      "image/png": "[encoded data removed]",
      "text/plain": [
       "<Figure size 432x288 with 2 Axes>"
      ]
     },
     "metadata": {},
     "output_type": "display_data"
    }
   ],
   "source": [
    "# plot the comfusion matrix  in the test set\n",
    "y_preds = clf_knn.predict(x_test)\n",
    "\n",
    "skplt.metrics.plot_confusion_matrix(y_test,y_preds, normalize=False,\n",
    "                                    title=\"Consfusion Matrix on Test Set\")\n",
    "plt.show()"
   ]
  },
  {
   "cell_type": "markdown",
   "metadata": {},
   "source": [
    "Como podemos observar el KNN ROC en ambos casos es bastante pobre. Mis dos teorias son:\n",
    "\n",
    "    1.Los datos son muy pocos para un correcto entrenamiento de la IA\n",
    "    2.Puede que el clasificador este funcionando mal, osea que los datos esten mal clasificados antes del entrenamiento. Entonces por eso sea malo el entrenamiento.\n",
    "\n"
   ]
  }
 ],
 "metadata": {
  "interpreter": {
   "hash": "916dbcbb3f70747c44a77c7bcd40155683ae19c65e1c03b4aa3499c5328201f1"
  },
  "kernelspec": {
   "display_name": "Python 3.8.10 64-bit",
   "language": "python",
   "name": "python3"
  },
  "language_info": {
   "codemirror_mode": {
    "name": "ipython",
    "version": 3
   },
   "file_extension": ".py",
   "mimetype": "text/x-python",
   "name": "python",
   "nbconvert_exporter": "python",
   "pygments_lexer": "ipython3",
   "version": "3.10.1"
  },
  "orig_nbformat": 4
 },
 "nbformat": 4,
 "nbformat_minor": 2
}
