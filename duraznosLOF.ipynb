{
 "cells": [
  {
   "cell_type": "markdown",
   "metadata": {},
   "source": [
    "Voy a tratar de aplicar la deteccion de outliers por lejania o distancia a los datos de este set sobre duraznos."
   ]
  },
  {
   "cell_type": "markdown",
   "metadata": {},
   "source": [
    "*Librerias*"
   ]
  },
  {
   "cell_type": "code",
   "execution_count": null,
   "metadata": {},
   "outputs": [],
   "source": [
    "import pandas as pd\n",
    "import numpy as np\n",
    "import seaborn as sns\n",
    "import matplotlib.pyplot as plt\n",
    "from sklearn.neighbors import LocalOutlierFactor\n",
    "import Ourfunctions as ofn\n",
    "import scikitplot as skplt \n",
    "from sklearn.model_selection import train_test_split\n",
    "np.random.seed(123)"
   ]
  },
  {
   "cell_type": "markdown",
   "metadata": {},
   "source": [
    "**Ahora leemos el csv, luego de haber corrido el from_exceltoCsv.py**"
   ]
  },
  {
   "cell_type": "code",
   "execution_count": null,
   "metadata": {},
   "outputs": [],
   "source": [
    "datos = pd.read_csv(\"duraznosfinal.csv\")\n",
    "#Eliminamos la primer columna que no nos aporta nada.\n",
    "datos.drop(datos.columns[0],axis = 1, inplace = True)\n",
    "datos.shape"
   ]
  },
  {
   "cell_type": "code",
   "execution_count": null,
   "metadata": {},
   "outputs": [],
   "source": [
    "sns.set_style(\"whitegrid\")\n",
    "flierprops = dict(marker='o', markerfacecolor='red', markersize=5,  markeredgecolor='None')\n",
    "sns.boxplot(data= datos,y = \"Peso\",x=\"Zona\",flierprops = flierprops)"
   ]
  },
  {
   "cell_type": "code",
   "execution_count": null,
   "metadata": {},
   "outputs": [],
   "source": [
    "#split into independent variables and target variable\\n\",\n",
    "x = datos.drop(['Zona','Finca','Diámetro Sutural','Diámetro Contrasutural'], axis=1)\n",
    "#outliers son 9\n",
    "n_outliers = 9\n",
    "ground_truth = np.ones(len(x), dtype=int)\n",
    "ground_truth[-n_outliers:] = -1\n",
    "# show the shape of x and y  \n",
    "print(\"x shape: {}\".format(x.shape))"
   ]
  },
  {
   "cell_type": "code",
   "execution_count": null,
   "metadata": {},
   "outputs": [],
   "source": [
    "clf  = LocalOutlierFactor(n_neighbors = 20,contamination = 0.1) #20 neighbors es una recomendación que dan todos los libros como numero \"magico\""
   ]
  },
  {
   "cell_type": "code",
   "execution_count": null,
   "metadata": {},
   "outputs": [],
   "source": [
    "x_train ,x_test = train_test_split(x,test_size=0.5)       #test_size=0.5(whole_data)\n",
    "ofn.ClasificarOutliersVect(x)"
   ]
  },
  {
   "cell_type": "code",
   "execution_count": null,
   "metadata": {},
   "outputs": [],
   "source": [
    "y_pred = clf.fit_predict(x)\n",
    "n_errors = (y_pred != ground_truth).sum()\n",
    "X_scores = clf.negative_outlier_factor_"
   ]
  }
 ],
 "metadata": {
  "interpreter": {
   "hash": "916dbcbb3f70747c44a77c7bcd40155683ae19c65e1c03b4aa3499c5328201f1"
  },
  "kernelspec": {
   "display_name": "Python 3.8.10 64-bit",
   "language": "python",
   "name": "python3"
  },
  "language_info": {
   "codemirror_mode": {
    "name": "ipython",
    "version": 3
   },
   "file_extension": ".py",
   "mimetype": "text/x-python",
   "name": "python",
   "nbconvert_exporter": "python",
   "pygments_lexer": "ipython3",
   "version": "3.8.10"
  },
  "orig_nbformat": 4
 },
 "nbformat": 4,
 "nbformat_minor": 2
}
